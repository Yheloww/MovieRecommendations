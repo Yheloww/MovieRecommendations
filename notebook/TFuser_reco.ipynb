{
 "cells": [
  {
   "cell_type": "code",
   "execution_count": 3,
   "metadata": {},
   "outputs": [],
   "source": [
    "import os\n",
    "import pprint\n",
    "import tempfile\n",
    "\n",
    "from typing import Dict, Text\n",
    "\n",
    "import numpy as np\n",
    "import tensorflow as tf\n",
    "import tensorflow_datasets as tfds\n",
    "import tensorflow_recommenders as tfrs\n"
   ]
  },
  {
   "cell_type": "code",
   "execution_count": 4,
   "metadata": {},
   "outputs": [
    {
     "name": "stdout",
     "output_type": "stream",
     "text": [
      "\u001b[1mDownloading and preparing dataset Unknown size (download: Unknown size, generated: Unknown size, total: Unknown size) to C:\\Users\\feldm\\tensorflow_datasets\\movielens\\100k-ratings\\0.1.1...\u001b[0m\n"
     ]
    },
    {
     "name": "stderr",
     "output_type": "stream",
     "text": [
      "Dl Completed...: 0 url [00:00, ? url/s]\n",
      "Dl Completed...:   0%|          | 0/1 [00:00<?, ? url/s]\n",
      "Dl Completed...: 100%|██████████| 1/1 [00:00<00:00, 17.70 url/s]\n",
      "Dl Completed...: 100%|██████████| 1/1 [00:00<00:00, 12.66 url/s]\n",
      "Dl Completed...: 100%|██████████| 1/1 [00:00<00:00, 10.36 url/s]\n",
      "Dl Completed...: 100%|██████████| 1/1 [00:00<00:00,  6.87 url/s]\n",
      "Dl Completed...: 100%|██████████| 1/1 [00:00<00:00,  5.51 url/s]\n",
      "Dl Completed...: 100%|██████████| 1/1 [00:00<00:00,  4.89 url/s]\n",
      "Dl Completed...: 100%|██████████| 1/1 [00:00<00:00,  3.52 url/s]\n",
      "Dl Completed...: 100%|██████████| 1/1 [00:00<00:00,  3.16 url/s]\n",
      "Dl Completed...: 100%|██████████| 1/1 [00:00<00:00,  2.96 url/s]\n",
      "Dl Completed...: 100%|██████████| 1/1 [00:00<00:00,  2.64 url/s]\n",
      "Dl Completed...: 100%|██████████| 1/1 [00:00<00:00,  2.47 url/s]\n",
      "Dl Completed...: 100%|██████████| 1/1 [00:00<00:00,  2.28 url/s]\n",
      "Dl Completed...: 100%|██████████| 1/1 [00:00<00:00,  1.94 url/s]\n",
      "Dl Completed...: 100%|██████████| 1/1 [00:00<00:00,  1.81 url/s]\n",
      "Dl Completed...: 100%|██████████| 1/1 [00:00<00:00,  1.59 url/s]\n",
      "Dl Completed...: 100%|██████████| 1/1 [00:00<00:00,  1.47 url/s]\n",
      "Dl Completed...: 100%|██████████| 1/1 [00:00<00:00,  1.33 url/s]\n",
      "Dl Completed...: 100%|██████████| 1/1 [00:00<00:00,  1.25 url/s]\n",
      "Dl Completed...: 100%|██████████| 1/1 [00:00<00:00,  1.14 url/s]\n",
      "Dl Completed...: 100%|██████████| 1/1 [00:00<00:00,  1.09 url/s]\n",
      "Dl Completed...: 100%|██████████| 1/1 [00:01<00:00,  1.01s/ url]\n",
      "Dl Completed...: 100%|██████████| 1/1 [00:01<00:00,  1.07s/ url]\n",
      "Dl Completed...: 100%|██████████| 1/1 [00:01<00:00,  1.16s/ url]\n",
      "Dl Completed...: 100%|██████████| 1/1 [00:01<00:00,  1.23s/ url]\n",
      "Dl Completed...: 100%|██████████| 1/1 [00:01<00:00,  1.31s/ url]\n",
      "Dl Completed...: 100%|██████████| 1/1 [00:01<00:00,  1.34s/ url]\n",
      "\u001b[A\n",
      "Dl Completed...: 100%|██████████| 1/1 [00:01<00:00,  1.36s/ url]\n",
      "Dl Completed...: 100%|██████████| 1/1 [00:01<00:00,  1.36s/ url]\n",
      "Dl Completed...: 100%|██████████| 1/1 [00:01<00:00,  1.37s/ url]\n",
      "Dl Completed...: 100%|██████████| 1/1 [00:01<00:00,  1.38s/ url]\n",
      "Dl Completed...: 100%|██████████| 1/1 [00:01<00:00,  1.39s/ url]\n",
      "Dl Completed...: 100%|██████████| 1/1 [00:01<00:00,  1.39s/ url]\n",
      "Dl Completed...: 100%|██████████| 1/1 [00:01<00:00,  1.40s/ url]\n",
      "Dl Completed...: 100%|██████████| 1/1 [00:01<00:00,  1.41s/ url]\n",
      "Dl Completed...: 100%|██████████| 1/1 [00:01<00:00,  1.42s/ url]\n",
      "Dl Completed...: 100%|██████████| 1/1 [00:01<00:00,  1.42s/ url]\n",
      "Dl Completed...: 100%|██████████| 1/1 [00:01<00:00,  1.43s/ url]\n",
      "Dl Completed...: 100%|██████████| 1/1 [00:01<00:00,  1.44s/ url]\n",
      "Dl Completed...: 100%|██████████| 1/1 [00:01<00:00,  1.45s/ url]\n",
      "Dl Completed...: 100%|██████████| 1/1 [00:01<00:00,  1.45s/ url]\n",
      "\u001b[A\n",
      "Dl Completed...: 100%|██████████| 1/1 [00:01<00:00,  1.47s/ url]\n",
      "Dl Completed...: 100%|██████████| 1/1 [00:01<00:00,  1.47s/ url]\n",
      "Dl Completed...: 100%|██████████| 1/1 [00:01<00:00,  1.48s/ url]\n",
      "Dl Completed...: 100%|██████████| 1/1 [00:01<00:00,  1.48s/ url]\n",
      "Dl Completed...: 100%|██████████| 1/1 [00:01<00:00,  1.50s/ url]\n",
      "Dl Completed...: 100%|██████████| 1/1 [00:01<00:00,  1.51s/ url]\n",
      "Dl Completed...: 100%|██████████| 1/1 [00:01<00:00,  1.51s/ url]\n",
      "Dl Completed...: 100%|██████████| 1/1 [00:01<00:00,  1.52s/ url]\n",
      "Dl Completed...: 100%|██████████| 1/1 [00:01<00:00,  1.54s/ url]\n",
      "Extraction completed...: 100%|██████████| 23/23 [00:01<00:00, 15.13 file/s]\n",
      "Dl Size...: 100%|██████████| 4924029/4924029 [00:01<00:00, 3212043.52 MiB/s]\n",
      "Dl Completed...: 100%|██████████| 1/1 [00:01<00:00,  1.55s/ url]\n",
      "                                                                        \r"
     ]
    },
    {
     "name": "stdout",
     "output_type": "stream",
     "text": [
      "\u001b[1mDataset movielens downloaded and prepared to C:\\Users\\feldm\\tensorflow_datasets\\movielens\\100k-ratings\\0.1.1. Subsequent calls will reuse this data.\u001b[0m\n"
     ]
    }
   ],
   "source": [
    "ratings = tfds.load(\"movielens/100k-ratings\", split=\"train\")\n",
    "\n",
    "ratings = ratings.map(lambda x: {\n",
    "    \"movie_title\": x[\"movie_title\"],\n",
    "    \"user_id\": x[\"user_id\"],\n",
    "    \"user_rating\": x[\"user_rating\"]\n",
    "})"
   ]
  },
  {
   "cell_type": "code",
   "execution_count": 5,
   "metadata": {},
   "outputs": [],
   "source": [
    "tf.random.set_seed(42)\n",
    "shuffled = ratings.shuffle(100_000, seed=42, reshuffle_each_iteration=False)\n",
    "\n",
    "train = shuffled.take(80_000)\n",
    "test = shuffled.skip(80_000).take(20_000)"
   ]
  },
  {
   "cell_type": "code",
   "execution_count": 6,
   "metadata": {},
   "outputs": [],
   "source": [
    "movie_titles = ratings.batch(1_000_000).map(lambda x: x[\"movie_title\"])\n",
    "user_ids = ratings.batch(1_000_000).map(lambda x: x[\"user_id\"])\n",
    "\n",
    "unique_movie_titles = np.unique(np.concatenate(list(movie_titles)))\n",
    "unique_user_ids = np.unique(np.concatenate(list(user_ids)))"
   ]
  },
  {
   "cell_type": "code",
   "execution_count": null,
   "metadata": {},
   "outputs": [],
   "source": []
  }
 ],
 "metadata": {
  "kernelspec": {
   "display_name": "reco",
   "language": "python",
   "name": "python3"
  },
  "language_info": {
   "codemirror_mode": {
    "name": "ipython",
    "version": 3
   },
   "file_extension": ".py",
   "mimetype": "text/x-python",
   "name": "python",
   "nbconvert_exporter": "python",
   "pygments_lexer": "ipython3",
   "version": "3.11.0"
  },
  "orig_nbformat": 4
 },
 "nbformat": 4,
 "nbformat_minor": 2
}
